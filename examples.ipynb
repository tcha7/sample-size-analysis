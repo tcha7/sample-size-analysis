{
 "cells": [
  {
   "cell_type": "code",
   "execution_count": 10,
   "metadata": {},
   "outputs": [],
   "source": [
    "import numpy as np\n",
    "from calculate_n import *\n",
    "from calculate_n import _get_z"
   ]
  },
  {
   "cell_type": "code",
   "execution_count": 20,
   "metadata": {},
   "outputs": [
    {
     "name": "stdout",
     "output_type": "stream",
     "text": [
      "Help on function cal_n in module calculate_n:\n",
      "\n",
      "cal_n(p, exp_diff, conf_level=0.95, type='ave_yn', data=None, max_iter=100)\n",
      "    calculate N based on:\n",
      "    1. expected rate: `p` of which values are in [0,1]\n",
      "    2. expected confidence interval: `exp_diff`\n",
      "    3. confidence level: `conf_level`\n",
      "    4. type of the statistics used, which may be one of the following:\n",
      "        - 'ave_yn' is for when the statistic is the average of a bernoulli random variable, e.g. when you want to calc the average of clicks (since click event is a 0-1 random variable.) For this type, the standard deviation calculation will use the formula of Bernoulli's distribution.\n",
      "        - 'ave_others' is when the statistic is the average of an unknown distribution. We will use a monte-carlo method to estimate sd.\n",
      "\n",
      "Help on function cal_ci in module calculate_n:\n",
      "\n",
      "cal_ci(data, conf_level=0.95)\n",
      "    cal confidence interval (ci) assuming that the statistic is normally distributed, e.g. mean.\n",
      "\n",
      "Help on function cal_n_from_t_test in module calculate_n:\n",
      "\n",
      "cal_n_from_t_test(p, exp_diff, conf_level=0.95, type='ave_yn', data=None, max_iter=100)\n",
      "    t-test (one-sample) is a hypothesis testing where the null hypothesis h0 is that the population mean is p. If t > threshold (e.g. ~1.65 for p-value < 5% with degree of freedom ~ 1000), we can reject n0 and conclude that the mean is actually x (or [p + exp_diff]). If t <= threshold, then the test is inconclusive (doesn't mean that the mean is p, because it means that the mean is either p or we simply don't have enough info to say it is not p.)\n",
      "    calculate N from t-test. t-test considers |x - p| where p is the expected rate and |x - p| is the expected diff\n",
      "    1. expected rate: `p` of which values are in [0,1]\n",
      "    2. expected difference: `exp_diff`. \n",
      "    3. confidence level: `conf_level`\n",
      "    4. type of the statistics used, which may be one of the following:\n",
      "        - 'ave_yn' is for when the statistic is the average of a bernoulli random variable, e.g. when you want to calc the average of clicks (since click event is a 0-1 random variable.) For this type, the standard deviation calculation will use the formula of Bernoulli's distribution.\n",
      "        - 'ave_others' is when the statistic is the average of an unknown distribution. We will use a monte-carlo method to estimate sd.\n",
      "\n",
      "Help on function cal_ratio_for_comparing_two_means in module calculate_n:\n",
      "\n",
      "cal_ratio_for_comparing_two_means(total_n, exp_mean_1=None, exp_mean_2=None, conf_level=0.95, type='ave_yn', sd_1=None, sd_2=None)\n",
      "    Using two-sample t-test to work back and find what N1:N2 ratio we need to get a significant difference in means, where the total sample N = N1+N2 is given.\n",
      "    If the rv is bernoulli (or y/n type of sample space), we can use `ave_yn`. Otherwise, use `ave_others`, which requires that we estimate sd and mean.\n",
      "\n",
      "Help on function t_test in module calculate_n:\n",
      "\n",
      "t_test(data, alpha=0.05, data2=None, base_mean=None, type='one-sample', method='stdlib')\n",
      "    One-sample t-test is a hypothesis testing where the null hypothesis h0 is that the population mean is p. If t > threshold (e.g. ~1.65 for p-value < 5% with degree of freedom ~ 1000), we can reject n0 and conclude that the mean is actually x (or [p + exp_diff]). If t <= threshold, then the test is inconclusive (doesn't mean that the mean is p, because it means that the mean is either p or we simply don't have enough info to say it is not p.)\n",
      "    Two-sample t-test checks whether mu1 differs from mu2, where the null hypothesis is that mu1 doesn't differ from mu2.\n",
      "\n",
      "Help on function create_bernoulli_samples in module calculate_n:\n",
      "\n",
      "create_bernoulli_samples(p, n)\n",
      "    This is used to generate an array of {0,1} with the size n and the number of 1's around p*n.\n",
      "\n"
     ]
    }
   ],
   "source": [
    "help(cal_n)\n",
    "help(cal_ci)\n",
    "help(cal_n_from_t_test)\n",
    "help(cal_ratio_for_comparing_two_means)\n",
    "help(t_test)\n",
    "help(create_bernoulli_samples)"
   ]
  },
  {
   "attachments": {},
   "cell_type": "markdown",
   "metadata": {},
   "source": [
    "# Examples"
   ]
  },
  {
   "attachments": {},
   "cell_type": "markdown",
   "metadata": {},
   "source": [
    "## Example 1"
   ]
  },
  {
   "cell_type": "code",
   "execution_count": 3,
   "metadata": {},
   "outputs": [
    {
     "name": "stdout",
     "output_type": "stream",
     "text": [
      "474.0\n"
     ]
    }
   ],
   "source": [
    "\"\"\"\n",
    "Example 1: find N needed to do A/B testing based on delinquency rate\n",
    "\n",
    "Since the dlq rate can be thought of as an average of a bernoulli rv as follows. Let x be a rv that can take the values 0 or 1, representing good or bad, respectively.\n",
    "\n",
    "Let's say that typically the dlq rate of this group as a whole is around 5%\n",
    "We expect that with a new strategy, the dlq rate should decrease to about 3%\n",
    "Let's assume we want to consider the 95% confidence interval\n",
    "\"\"\"\n",
    "\n",
    "expected_base_dlq_rate = 0.02\n",
    "expected_diff = 0.01\n",
    "confidence_level = 0.88\n",
    "\n",
    "num_samples = cal_n(p=expected_base_dlq_rate, exp_diff=expected_diff, conf_level=confidence_level, type='ave_yn')\n",
    "print(num_samples)"
   ]
  },
  {
   "cell_type": "code",
   "execution_count": 11,
   "metadata": {},
   "outputs": [
    {
     "name": "stdout",
     "output_type": "stream",
     "text": [
      "The mean is: 1.5 +/- 2.39\n"
     ]
    }
   ],
   "source": [
    "num_samples = 70\n",
    "p = 0.015\n",
    "sd = np.sqrt(p*(1-p))\n",
    "z = _get_z(0.90)\n",
    "ci = z*sd/np.sqrt(num_samples)\n",
    "print('The mean is: ' + str(round(p*100, 2)) + ' +/- '+str(round(ci*100, 2)))"
   ]
  },
  {
   "cell_type": "code",
   "execution_count": 5,
   "metadata": {},
   "outputs": [
    {
     "name": "stdout",
     "output_type": "stream",
     "text": [
      "The mean is: 1.4285714285714286 +/- 2.3329462992860104\n"
     ]
    }
   ],
   "source": [
    "\"\"\"\n",
    "Once we have the samples, we can calculate the observed confidence interval here.\n",
    "\"\"\"\n",
    "# data = np.random.choice([0,1],size=num_samples, p =[1-p, p] ) #random data for an example.\n",
    "#supposed we have around 0.047-0.048 dlq rate\n",
    "p = 0.02\n",
    "data = create_bernoulli_samples(p, num_samples)\n",
    "\n",
    "mu = np.mean(data)\n",
    "ci = cal_ci(data, conf_level=0.9)\n",
    "print('The mean is: ' + str(mu*100) + ' +/- '+str(ci*100))"
   ]
  },
  {
   "attachments": {},
   "cell_type": "markdown",
   "metadata": {},
   "source": [
    "## Example 2"
   ]
  },
  {
   "cell_type": "code",
   "execution_count": 6,
   "metadata": {},
   "outputs": [
    {
     "name": "stdout",
     "output_type": "stream",
     "text": [
      "146.0\n"
     ]
    }
   ],
   "source": [
    "\"\"\"\n",
    "Example 2: find N needed to do A/B testing based on delinquency rate. This is the same as in Example 1, but we will use the t-test method instead.\n",
    "\n",
    "Let's say that typically the dlq rate of this group as a whole is around 8%\n",
    "We expect that with a new strategy, the dlq rate should decrease to about 5%\n",
    "Let's assume we want to consider the 95% confidence interval\n",
    "\"\"\"\n",
    "expected_base_dlq_rate = 0.05\n",
    "expected_diff = 0.03\n",
    "confidence_level = 0.95\n",
    "\n",
    "num_samples = cal_n_from_t_test(p=expected_base_dlq_rate, exp_diff=expected_diff, conf_level=confidence_level, type='ave_yn')\n",
    "print(num_samples)"
   ]
  },
  {
   "cell_type": "code",
   "execution_count": 7,
   "metadata": {},
   "outputs": [
    {
     "name": "stdout",
     "output_type": "stream",
     "text": [
      "17.04403585944076\n",
      "1.6554302514146266\n",
      "Since t-statistic is greater than the 0.05 t-value, we can reject the null hypothesis that the mean is 8%.\n",
      "The mean is: 2.054794520547945 +/- 2.3011633760526182\n"
     ]
    }
   ],
   "source": [
    "\"\"\"\n",
    "Once we have the samples, we can check the t-test and ci here.\n",
    "\"\"\"\n",
    "mu = 0.021\n",
    "base_mean = 0.05\n",
    "sd = mu*(1-mu)\n",
    "t = (mu - base_mean) / (sd / np.sqrt(num_samples))\n",
    "t_lookup = stats.t.ppf(q=confidence_level, df=num_samples-1)\n",
    "print(np.abs(t))\n",
    "print(t_lookup)\n",
    "if np.abs(t) > t_lookup:\n",
    "    print('Since t-statistic is greater than the 0.05 t-value, we can reject the null hypothesis that the mean is 8%.')\n",
    "\n",
    "data = create_bernoulli_samples(mu, num_samples)\n",
    "mu = np.mean(data)\n",
    "ci = cal_ci(data, conf_level=confidence_level)\n",
    "print('The mean is: ' + str(mu*100) + ' +/- '+str(ci*100))"
   ]
  },
  {
   "attachments": {},
   "cell_type": "markdown",
   "metadata": {},
   "source": [
    "## Example 3"
   ]
  },
  {
   "cell_type": "code",
   "execution_count": 8,
   "metadata": {},
   "outputs": [
    {
     "name": "stdout",
     "output_type": "stream",
     "text": [
      "current total_n = 2000\n",
      "0.23 < sample ratio (r) < 0.71,\n",
      "where n1 = r*total_n and n2 = (1-r)*total_n\n"
     ]
    }
   ],
   "source": [
    "\"\"\"\n",
    "Example 3: Given a total samples of n, we want to split n into two groups to perform A/B testing. What would be the ratio of n1 : n2?\n",
    "\n",
    "To do this, we use the two-sample t-test by providing the expected averages of the two groups. In this example, we assume that the rv is bernoulli.\n",
    "\"\"\"\n",
    "\n",
    "total_samples = 2000\n",
    "expected_ave_1 = 0.05\n",
    "expected_ave_2 = 0.07\n",
    "min_ratio, max_ratio  = cal_ratio_for_comparing_two_means(total_n=total_samples, exp_mean_1=expected_ave_1, exp_mean_2=expected_ave_2, conf_level=0.95, type='ave_yn')"
   ]
  },
  {
   "attachments": {},
   "cell_type": "markdown",
   "metadata": {},
   "source": [
    "## Example 4"
   ]
  },
  {
   "cell_type": "code",
   "execution_count": 9,
   "metadata": {},
   "outputs": [
    {
     "name": "stdout",
     "output_type": "stream",
     "text": [
      "current total_n = 200\n",
      "0.56 < sample ratio (r) < 0.62,\n",
      "where n1 = r*total_n and n2 = (1-r)*total_n\n"
     ]
    }
   ],
   "source": [
    "\"\"\"\n",
    "Example 4: Given a total samples of n, we want to split n into two groups to perform A/B testing. What would be the ratio of n1 : n2?\n",
    "\n",
    "To do this, we use the two-sample t-test by providing the expected averages of the two groups. In this example, we input expected mean and sd into the function directly.\n",
    "\"\"\"\n",
    "\n",
    "total_samples = 200\n",
    "expected_ave_1 = 0.05\n",
    "expected_ave_2 = 0.07\n",
    "expected_sd_1 = 0.1\n",
    "expected_sd_2 = 0.15\n",
    "\n",
    "min_ratio, max_ratio  = cal_ratio_for_comparing_two_means(total_n=total_samples, exp_mean_1=expected_ave_1, exp_mean_2=expected_ave_2, conf_level=0.95, type='ave_others', sd_1 = expected_sd_1, sd_2 = expected_ave_2)"
   ]
  }
 ],
 "metadata": {
  "kernelspec": {
   "display_name": "base",
   "language": "python",
   "name": "python3"
  },
  "language_info": {
   "codemirror_mode": {
    "name": "ipython",
    "version": 3
   },
   "file_extension": ".py",
   "mimetype": "text/x-python",
   "name": "python",
   "nbconvert_exporter": "python",
   "pygments_lexer": "ipython3",
   "version": "3.8.8"
  },
  "orig_nbformat": 4
 },
 "nbformat": 4,
 "nbformat_minor": 2
}
